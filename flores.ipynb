{
  "nbformat": 4,
  "nbformat_minor": 0,
  "metadata": {
    "colab": {
      "provenance": [],
      "authorship_tag": "ABX9TyPX5jDtprHXPunVe6BImk6K",
      "include_colab_link": true
    },
    "kernelspec": {
      "name": "python3",
      "display_name": "Python 3"
    },
    "language_info": {
      "name": "python"
    }
  },
  "cells": [
    {
      "cell_type": "markdown",
      "metadata": {
        "id": "view-in-github",
        "colab_type": "text"
      },
      "source": [
        "<a href=\"https://colab.research.google.com/github/NicolasCoiado/knn-flores/blob/main/flores.ipynb\" target=\"_parent\"><img src=\"https://colab.research.google.com/assets/colab-badge.svg\" alt=\"Open In Colab\"/></a>"
      ]
    },
    {
      "cell_type": "code",
      "execution_count": null,
      "metadata": {
        "colab": {
          "base_uri": "https://localhost:8080/"
        },
        "id": "7zqc_KLmg1iV",
        "outputId": "0611f310-6b15-40cb-8180-adea743a632c"
      },
      "outputs": [
        {
          "output_type": "stream",
          "name": "stdout",
          "text": [
            "Acurácia: 1.0\n",
            "Matriz de Confusão:\n",
            "[[19  0  0]\n",
            " [ 0 13  0]\n",
            " [ 0  0 13]]\n",
            "Acurácia Árvore de Decisão: 1.00\n",
            "Matriz de Confusão Árvore de Decisão:\n",
            "[[19  0  0]\n",
            " [ 0 13  0]\n",
            " [ 0  0 13]]\n"
          ]
        }
      ],
      "source": [
        "import pandas as pd\n",
        "from sklearn.model_selection import train_test_split\n",
        "from sklearn.neighbors import KNeighborsClassifier\n",
        "from sklearn.metrics import confusion_matrix, accuracy_score\n",
        "\n",
        "# Carregar os dados\n",
        "csv_url = 'https://archive.ics.uci.edu/ml/machine-learning-databases/iris/iris.data'\n",
        "col_names = ['Sepal_Length', 'Sepal_Width', 'Petal_Length', 'Petal_Width', 'Species']\n",
        "iris = pd.read_csv(csv_url, names=col_names, header=None)\n",
        "\n",
        "# Converter o atributo de String para Inteiro\n",
        "iris['Species_codigo'] = iris['Species'].apply(lambda x: 0 if x == 'Iris-setosa' else 1 if x == 'Iris-versicolor' else 2)\n",
        "\n",
        "# Definindo as variáveis independentes (features) e dependentes (target)\n",
        "y = iris['Species_codigo']\n",
        "x = iris.iloc[:, 0:4]\n",
        "\n",
        "# Dividir os dados em conjunto de treino e teste\n",
        "x_train, x_test, y_train, y_test = train_test_split(x, y, test_size=0.3, random_state=42)\n",
        "\n",
        "# Algoritmo Classificador (treino)\n",
        "knn = KNeighborsClassifier(n_neighbors=3)  # Você pode escolher o valor de n_neighbors\n",
        "knn.fit(x_train, y_train)  # Treinando o classificador\n",
        "\n",
        "# Algoritmo Classificador (predição)\n",
        "y_pred = knn.predict(x_test)  # Fazendo as predições\n",
        "\n",
        "# Acurácia\n",
        "accuracy = accuracy_score(y_test, y_pred)  # Calculando a acurácia\n",
        "print(f'Acurácia: {accuracy:.1f}')\n",
        "\n",
        "# Matriz de Confusão\n",
        "conf_matrix = confusion_matrix(y_test, y_pred)  # Gerando a matriz de confusão\n",
        "print('Matriz de Confusão:')\n",
        "print(conf_matrix)\n",
        "\n",
        "from sklearn.tree import DecisionTreeClassifier\n",
        "from sklearn.metrics import accuracy_score, confusion_matrix\n",
        "\n",
        "# Treinamento do modelo\n",
        "arvore_decisao = DecisionTreeClassifier(random_state=0)  # Cria uma instância do classificador\n",
        "arvore_decisao.fit(x_train, y_train)  # Treina o modelo\n",
        "\n",
        "# Predição\n",
        "y_pred_arvore = arvore_decisao.predict(x_test)  # Faz previsões no conjunto de teste\n",
        "\n",
        "# Acurácia\n",
        "acuracia_arvore = accuracy_score(y_test, y_pred_arvore)  # Calcula a acurácia\n",
        "print(f\"Acurácia Árvore de Decisão: {acuracia_arvore:.2f}\")\n",
        "\n",
        "# Matriz de Confusão\n",
        "matriz_confusao_arvore = confusion_matrix(y_test, y_pred_arvore)\n",
        "print(\"Matriz de Confusão Árvore de Decisão:\")\n",
        "print(matriz_confusao_arvore)\n"
      ]
    },
    {
      "cell_type": "code",
      "source": [],
      "metadata": {
        "id": "BJUlnzUHnQvh"
      },
      "execution_count": null,
      "outputs": []
    },
    {
      "cell_type": "markdown",
      "source": [
        "**a)** O dataset Iris parece estar enviesado, o que se reflete na acurácia de 100% obtida pelo KNN. Este valor sugere que o modelo classificou todas as amostras corretamente, algo incomum em problemas reais de classificação, onde há ruído ou variação nos dados."
      ],
      "metadata": {
        "id": "4A4knSzr4dzN"
      }
    },
    {
      "cell_type": "markdown",
      "source": [
        "**b)** A princípio os resultados são iguais, entretanto, ao mudar o balanço de treino/teste, a árvore de decisão apresenta mais erros."
      ],
      "metadata": {
        "id": "5HXpYEaJ5FLD"
      }
    }
  ]
}